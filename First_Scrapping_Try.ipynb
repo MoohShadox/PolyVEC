{
 "cells": [
  {
   "cell_type": "code",
   "execution_count": 1,
   "id": "3c0b6499",
   "metadata": {},
   "outputs": [
    {
     "data": {
      "application/vnd.jupyter.widget-view+json": {
       "model_id": "48dbc30ee6944e93a1d2b981c47fd503",
       "version_major": 2,
       "version_minor": 0
      },
      "text/plain": [
       "HBox(children=(HTML(value=''), FloatProgress(value=0.0, max=244.0), HTML(value='')))"
      ]
     },
     "metadata": {},
     "output_type": "display_data"
    },
    {
     "name": "stdout",
     "output_type": "stream",
     "text": [
      "\n",
      "{}\n",
      "{}\n"
     ]
    }
   ],
   "source": [
    "import numpy as np\n",
    "import requests\n",
    "import pandas as pd\n",
    "from bs4 import BeautifulSoup\n",
    "from tqdm.notebook import tqdm\n",
    "import spacy\n",
    "from sklearn.feature_extraction.text import CountVectorizer\n",
    "from scrapping.scrapping_tools import *\n",
    "from utils.dict_utils import *"
   ]
  },
  {
   "cell_type": "code",
   "execution_count": 2,
   "id": "89e864da",
   "metadata": {},
   "outputs": [],
   "source": [
    "orateurs_datas = {}\n",
    "not_found = []"
   ]
  },
  {
   "cell_type": "code",
   "execution_count": 7,
   "id": "137c1613",
   "metadata": {},
   "outputs": [
    {
     "name": "stdout",
     "output_type": "stream",
     "text": [
      "page =  1\n",
      "page =  2\n"
     ]
    }
   ],
   "source": [
    "full_datas= []\n",
    "for k in range(1,3):\n",
    "    L = get_links_page(k)\n",
    "    print(\"page = \", k )\n",
    "    for c,i in enumerate(L):\n",
    "        xml_l = get_xml(i)\n",
    "        if(not xml_l):\n",
    "            continue\n",
    "        dt = extract_xml(xml_l, orateurs_datas, not_found)\n",
    "        full_datas += dt\n",
    "        #print(\"dt= \", dt)"
   ]
  },
  {
   "cell_type": "code",
   "execution_count": 8,
   "id": "5004445a",
   "metadata": {},
   "outputs": [
    {
     "data": {
      "text/html": [
       "<div>\n",
       "<style scoped>\n",
       "    .dataframe tbody tr th:only-of-type {\n",
       "        vertical-align: middle;\n",
       "    }\n",
       "\n",
       "    .dataframe tbody tr th {\n",
       "        vertical-align: top;\n",
       "    }\n",
       "\n",
       "    .dataframe thead th {\n",
       "        text-align: right;\n",
       "    }\n",
       "</style>\n",
       "<table border=\"1\" class=\"dataframe\">\n",
       "  <thead>\n",
       "    <tr style=\"text-align: right;\">\n",
       "      <th></th>\n",
       "    </tr>\n",
       "  </thead>\n",
       "  <tbody>\n",
       "  </tbody>\n",
       "</table>\n",
       "</div>"
      ],
      "text/plain": [
       "Empty DataFrame\n",
       "Columns: []\n",
       "Index: []"
      ]
     },
     "execution_count": 8,
     "metadata": {},
     "output_type": "execute_result"
    }
   ],
   "source": [
    "D= merge_dict(orateurs_datas.values())\n",
    "df = pd.DataFrame(D)\n",
    "df"
   ]
  },
  {
   "cell_type": "code",
   "execution_count": 5,
   "id": "ec8e6606",
   "metadata": {},
   "outputs": [
    {
     "data": {
      "text/html": [
       "<div>\n",
       "<style scoped>\n",
       "    .dataframe tbody tr th:only-of-type {\n",
       "        vertical-align: middle;\n",
       "    }\n",
       "\n",
       "    .dataframe tbody tr th {\n",
       "        vertical-align: top;\n",
       "    }\n",
       "\n",
       "    .dataframe thead th {\n",
       "        text-align: right;\n",
       "    }\n",
       "</style>\n",
       "<table border=\"1\" class=\"dataframe\">\n",
       "  <thead>\n",
       "    <tr style=\"text-align: right;\">\n",
       "      <th></th>\n",
       "    </tr>\n",
       "  </thead>\n",
       "  <tbody>\n",
       "  </tbody>\n",
       "</table>\n",
       "</div>"
      ],
      "text/plain": [
       "Empty DataFrame\n",
       "Columns: []\n",
       "Index: []"
      ]
     },
     "execution_count": 5,
     "metadata": {},
     "output_type": "execute_result"
    }
   ],
   "source": [
    "D= merge_dict(full_datas)\n",
    "df = pd.DataFrame(D)\n",
    "df"
   ]
  },
  {
   "cell_type": "code",
   "execution_count": 6,
   "id": "46000912",
   "metadata": {},
   "outputs": [
    {
     "ename": "KeyError",
     "evalue": "'group'",
     "output_type": "error",
     "traceback": [
      "\u001b[1;31m---------------------------------------------------------------------------\u001b[0m",
      "\u001b[1;31mKeyError\u001b[0m                                  Traceback (most recent call last)",
      "\u001b[1;32m~\\AppData\\Local\\Temp\\ipykernel_4756\\4230508551.py\u001b[0m in \u001b[0;36m<module>\u001b[1;34m\u001b[0m\n\u001b[1;32m----> 1\u001b[1;33m \u001b[0mdf_g\u001b[0m \u001b[1;33m=\u001b[0m \u001b[0mdf\u001b[0m\u001b[1;33m.\u001b[0m\u001b[0mgroupby\u001b[0m\u001b[1;33m(\u001b[0m\u001b[1;34m\"group\"\u001b[0m\u001b[1;33m)\u001b[0m\u001b[1;33m.\u001b[0m\u001b[0mapply\u001b[0m\u001b[1;33m(\u001b[0m\u001b[1;32mlambda\u001b[0m \u001b[0mx\u001b[0m\u001b[1;33m:\u001b[0m \u001b[0mx\u001b[0m\u001b[1;33m.\u001b[0m\u001b[0msum\u001b[0m\u001b[1;33m(\u001b[0m\u001b[1;33m)\u001b[0m\u001b[1;33m)\u001b[0m\u001b[1;33m[\u001b[0m\u001b[1;34m\"texte\"\u001b[0m\u001b[1;33m]\u001b[0m\u001b[1;33m.\u001b[0m\u001b[0mreset_index\u001b[0m\u001b[1;33m(\u001b[0m\u001b[1;33m)\u001b[0m\u001b[1;33m\u001b[0m\u001b[1;33m\u001b[0m\u001b[0m\n\u001b[0m",
      "\u001b[1;32mc:\\users\\steag\\appdata\\local\\programs\\python\\python37\\lib\\site-packages\\pandas\\core\\frame.py\u001b[0m in \u001b[0;36mgroupby\u001b[1;34m(self, by, axis, level, as_index, sort, group_keys, squeeze, observed)\u001b[0m\n\u001b[0;32m   5808\u001b[0m             \u001b[0mgroup_keys\u001b[0m\u001b[1;33m=\u001b[0m\u001b[0mgroup_keys\u001b[0m\u001b[1;33m,\u001b[0m\u001b[1;33m\u001b[0m\u001b[1;33m\u001b[0m\u001b[0m\n\u001b[0;32m   5809\u001b[0m             \u001b[0msqueeze\u001b[0m\u001b[1;33m=\u001b[0m\u001b[0msqueeze\u001b[0m\u001b[1;33m,\u001b[0m\u001b[1;33m\u001b[0m\u001b[1;33m\u001b[0m\u001b[0m\n\u001b[1;32m-> 5810\u001b[1;33m             \u001b[0mobserved\u001b[0m\u001b[1;33m=\u001b[0m\u001b[0mobserved\u001b[0m\u001b[1;33m,\u001b[0m\u001b[1;33m\u001b[0m\u001b[1;33m\u001b[0m\u001b[0m\n\u001b[0m\u001b[0;32m   5811\u001b[0m         )\n\u001b[0;32m   5812\u001b[0m \u001b[1;33m\u001b[0m\u001b[0m\n",
      "\u001b[1;32mc:\\users\\steag\\appdata\\local\\programs\\python\\python37\\lib\\site-packages\\pandas\\core\\groupby\\groupby.py\u001b[0m in \u001b[0;36m__init__\u001b[1;34m(self, obj, keys, axis, level, grouper, exclusions, selection, as_index, sort, group_keys, squeeze, observed, mutated)\u001b[0m\n\u001b[0;32m    408\u001b[0m                 \u001b[0msort\u001b[0m\u001b[1;33m=\u001b[0m\u001b[0msort\u001b[0m\u001b[1;33m,\u001b[0m\u001b[1;33m\u001b[0m\u001b[1;33m\u001b[0m\u001b[0m\n\u001b[0;32m    409\u001b[0m                 \u001b[0mobserved\u001b[0m\u001b[1;33m=\u001b[0m\u001b[0mobserved\u001b[0m\u001b[1;33m,\u001b[0m\u001b[1;33m\u001b[0m\u001b[1;33m\u001b[0m\u001b[0m\n\u001b[1;32m--> 410\u001b[1;33m                 \u001b[0mmutated\u001b[0m\u001b[1;33m=\u001b[0m\u001b[0mself\u001b[0m\u001b[1;33m.\u001b[0m\u001b[0mmutated\u001b[0m\u001b[1;33m,\u001b[0m\u001b[1;33m\u001b[0m\u001b[1;33m\u001b[0m\u001b[0m\n\u001b[0m\u001b[0;32m    411\u001b[0m             )\n\u001b[0;32m    412\u001b[0m \u001b[1;33m\u001b[0m\u001b[0m\n",
      "\u001b[1;32mc:\\users\\steag\\appdata\\local\\programs\\python\\python37\\lib\\site-packages\\pandas\\core\\groupby\\grouper.py\u001b[0m in \u001b[0;36mget_grouper\u001b[1;34m(obj, key, axis, level, sort, observed, mutated, validate)\u001b[0m\n\u001b[0;32m    598\u001b[0m                 \u001b[0min_axis\u001b[0m\u001b[1;33m,\u001b[0m \u001b[0mname\u001b[0m\u001b[1;33m,\u001b[0m \u001b[0mlevel\u001b[0m\u001b[1;33m,\u001b[0m \u001b[0mgpr\u001b[0m \u001b[1;33m=\u001b[0m \u001b[1;32mFalse\u001b[0m\u001b[1;33m,\u001b[0m \u001b[1;32mNone\u001b[0m\u001b[1;33m,\u001b[0m \u001b[0mgpr\u001b[0m\u001b[1;33m,\u001b[0m \u001b[1;32mNone\u001b[0m\u001b[1;33m\u001b[0m\u001b[1;33m\u001b[0m\u001b[0m\n\u001b[0;32m    599\u001b[0m             \u001b[1;32melse\u001b[0m\u001b[1;33m:\u001b[0m\u001b[1;33m\u001b[0m\u001b[1;33m\u001b[0m\u001b[0m\n\u001b[1;32m--> 600\u001b[1;33m                 \u001b[1;32mraise\u001b[0m \u001b[0mKeyError\u001b[0m\u001b[1;33m(\u001b[0m\u001b[0mgpr\u001b[0m\u001b[1;33m)\u001b[0m\u001b[1;33m\u001b[0m\u001b[1;33m\u001b[0m\u001b[0m\n\u001b[0m\u001b[0;32m    601\u001b[0m         \u001b[1;32melif\u001b[0m \u001b[0misinstance\u001b[0m\u001b[1;33m(\u001b[0m\u001b[0mgpr\u001b[0m\u001b[1;33m,\u001b[0m \u001b[0mGrouper\u001b[0m\u001b[1;33m)\u001b[0m \u001b[1;32mand\u001b[0m \u001b[0mgpr\u001b[0m\u001b[1;33m.\u001b[0m\u001b[0mkey\u001b[0m \u001b[1;32mis\u001b[0m \u001b[1;32mnot\u001b[0m \u001b[1;32mNone\u001b[0m\u001b[1;33m:\u001b[0m\u001b[1;33m\u001b[0m\u001b[1;33m\u001b[0m\u001b[0m\n\u001b[0;32m    602\u001b[0m             \u001b[1;31m# Add key to exclusions\u001b[0m\u001b[1;33m\u001b[0m\u001b[1;33m\u001b[0m\u001b[1;33m\u001b[0m\u001b[0m\n",
      "\u001b[1;31mKeyError\u001b[0m: 'group'"
     ]
    }
   ],
   "source": [
    "df_g = df.groupby(\"group\").apply(lambda x: x.sum())[\"texte\"].reset_index()"
   ]
  },
  {
   "cell_type": "code",
   "execution_count": null,
   "id": "19617dac",
   "metadata": {},
   "outputs": [],
   "source": [
    "osef_words = [\"président\", \"article\", \"banc\", \"français\",\"loi\", \"texte\", \"groupe\", \"applaudissement\", \"monsieur\", \"ministre\", \"amendement\", \"question\", \"état\", \"gouvernement\"]\n",
    "def filter_text(text):\n",
    "    nlp = spacy.load(\"fr_core_news_sm\")\n",
    "    nlp.max_length = 1e25\n",
    "    doc = nlp(text)\n",
    "    conserved_words = []\n",
    "    for token in doc:\n",
    "        if(token.pos_ == \"NOUN\" and not token.is_stop and token.is_alpha):\n",
    "            if(token.lemma_ not in osef_words and token.text not in osef_words):\n",
    "                conserved_words.append(token.lemma_)\n",
    "    return conserved_words"
   ]
  },
  {
   "cell_type": "code",
   "execution_count": null,
   "id": "bfef2412",
   "metadata": {},
   "outputs": [],
   "source": [
    "def get_top_n_words(corpus, n=None):\n",
    "    vec = CountVectorizer().fit(corpus)\n",
    "    bag_of_words = vec.transform(corpus)\n",
    "    sum_words = bag_of_words.sum(axis=0) \n",
    "    words_freq = [(word, sum_words[0, idx]) for word, idx in vec.vocabulary_.items()]\n",
    "    words_freq =sorted(words_freq, key = lambda x: x[1], reverse=True)\n",
    "    return words_freq[:n]\n",
    "    "
   ]
  },
  {
   "cell_type": "code",
   "execution_count": null,
   "id": "c280741b",
   "metadata": {},
   "outputs": [],
   "source": [
    "for group, texte in zip(df_g[\"group\"], df_g[\"texte\"]):\n",
    "    corpus = filter_text(texte)\n",
    "    freq = get_top_n_words(corpus, n = 25)\n",
    "    print(\"========\")\n",
    "    print(f\"group: {group} : \")\n",
    "    for f in freq:\n",
    "        print(f[0], \" : \", f[1])\n",
    "    print(\"========\")\n"
   ]
  },
  {
   "cell_type": "code",
   "execution_count": null,
   "id": "70d443b9",
   "metadata": {},
   "outputs": [],
   "source": [
    "def count_term(text, term):\n",
    "    c = 0\n",
    "    for k in text:\n",
    "        if( k.lower() == term.lower()):\n",
    "            c = c + 1\n",
    "    return c\n"
   ]
  },
  {
   "cell_type": "code",
   "execution_count": null,
   "id": "4e9aa0f3",
   "metadata": {},
   "outputs": [],
   "source": [
    "displ = {\n",
    "    \"group\":[], \n",
    "    \"word\":[],\n",
    "    \"number\":[]\n",
    "}\n",
    "for group, texte in zip(df_g[\"group\"], df_g[\"texte\"]):\n",
    "    print(\"group: \", group)\n",
    "    f_text = filter_text(texte)\n",
    "    print(\"Travail : \", count_term(f_text,\"travail\"))\n",
    "    displ[\"word\"].append(\"Travail\")\n",
    "    displ[\"group\"].append(group)\n",
    "    displ[\"number\"].append(count_term(f_text,\"travail\"))\n",
    "    print(\"Droit : \", count_term(f_text,\"droit\"))\n",
    "    displ[\"word\"].append(\"Droit\")\n",
    "    displ[\"group\"].append(group)\n",
    "    displ[\"number\"].append(count_term(f_text,\"droit\"))\n"
   ]
  },
  {
   "cell_type": "code",
   "execution_count": null,
   "id": "b88352eb",
   "metadata": {},
   "outputs": [],
   "source": [
    "df_g = pd.DataFrame(displ)"
   ]
  },
  {
   "cell_type": "code",
   "execution_count": null,
   "id": "2d0db053",
   "metadata": {},
   "outputs": [],
   "source": [
    "df_g[\"group\"] = df_g[\"group\"].replace(\"Mouvement Démocrate et apparentés\", \"MODEM\")\n",
    "df_g[\"group\"] = df_g[\"group\"].replace(\"Mouvement Démocrate (MoDem) et Démocrates apparentés\", \"MODEM\")\n",
    "df_g[\"group\"] = df_g[\"group\"].replace(\"La France insoumise\", \"LFI\")\n",
    "df_g[\"group\"] = df_g[\"group\"].replace(\"Agir ensemble\", \"AE\")\n",
    "df_g[\"group\"] = df_g[\"group\"].replace(\"La République en Marche\", \"LREM\")\n",
    "df_g[\"group\"] = df_g[\"group\"].replace(\"Les Républicains\", \"LR\")\n",
    "df_g[\"group\"] = df_g[\"group\"].replace(\"Libertés et Territoires\", \"LT\")\n",
    "df_g[\"group\"] = df_g[\"group\"].replace(\"Non inscrit\", \"NI\")\n",
    "df_g[\"group\"] = df_g[\"group\"].replace(\"Nouvelle Gauche\", \"NG\")\n",
    "df_g[\"group\"] = df_g[\"group\"].replace(\"Socialistes et apparentés\", \"SOC\")\n",
    "df_g[\"group\"] = df_g[\"group\"].replace(\"UDI et Indépendants\", \"UDI\")\n",
    "df_g[\"group\"] = df_g[\"group\"].replace(\"UDI, Agir et Indépendants\", \"UDI\")\n",
    "\n",
    "df_g[\"group\"] = df_g[\"group\"].replace(\"Socialiste\", \"SOC\")\n",
    "\n",
    "\n",
    "df_g[\"group\"] = df_g[\"group\"].replace(\"Gauche démocrate et républicaine\", \"GDR\")\n"
   ]
  },
  {
   "cell_type": "code",
   "execution_count": null,
   "id": "874bba77",
   "metadata": {},
   "outputs": [],
   "source": [
    "df_g = df_g.groupby([\"group\",\"word\"]).sum().reset_index()\n",
    "df_g"
   ]
  },
  {
   "cell_type": "code",
   "execution_count": null,
   "id": "391d04ff",
   "metadata": {},
   "outputs": [],
   "source": [
    "s = df_g[df_g.group == \"AE\"][\"number\"].sum()\n",
    "df_g[df_g.group == \"AE\"][\"number\"] = df_g[df_g.group == \"AE\"][\"number\"] / s"
   ]
  },
  {
   "cell_type": "code",
   "execution_count": null,
   "id": "64120b4d",
   "metadata": {},
   "outputs": [],
   "source": [
    "df_g[df_g.group == \"AE\"][\"number\"]"
   ]
  },
  {
   "cell_type": "code",
   "execution_count": null,
   "id": "9a36b40f",
   "metadata": {},
   "outputs": [],
   "source": [
    "\n",
    "import seaborn as sns\n",
    "sns.set_theme(style=\"whitegrid\")"
   ]
  },
  {
   "cell_type": "code",
   "execution_count": null,
   "id": "d08eae2d",
   "metadata": {},
   "outputs": [],
   "source": [
    "g = sns.catplot(\n",
    "    data=df_g, kind=\"bar\",\n",
    "    x=\"group\", y=\"number\", hue=\"word\",\n",
    "    ci=\"sd\", palette=\"dark\", alpha=.6, height=6\n",
    ")\n",
    "g.despine(left=True)\n",
    "g.set_axis_labels(\"\", \"Number of occurrences\")\n",
    "g.legend.set_title(\"\")"
   ]
  },
  {
   "cell_type": "code",
   "execution_count": null,
   "id": "e8ef9283",
   "metadata": {},
   "outputs": [],
   "source": [
    "fig = g.fig\n",
    "fig.savefig('droit_travail.png', dpi=fig.dpi)"
   ]
  },
  {
   "cell_type": "code",
   "execution_count": null,
   "id": "2f80b9c0",
   "metadata": {},
   "outputs": [],
   "source": []
  }
 ],
 "metadata": {
  "kernelspec": {
   "display_name": "Python 3 (ipykernel)",
   "language": "python",
   "name": "python3"
  },
  "language_info": {
   "codemirror_mode": {
    "name": "ipython",
    "version": 3
   },
   "file_extension": ".py",
   "mimetype": "text/x-python",
   "name": "python",
   "nbconvert_exporter": "python",
   "pygments_lexer": "ipython3",
   "version": "3.9.10"
  }
 },
 "nbformat": 4,
 "nbformat_minor": 5
}
