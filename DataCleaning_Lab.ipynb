{
 "cells": [
  {
   "cell_type": "code",
   "execution_count": 144,
   "id": "517de334-644a-4ba9-889a-1c89c52da0ed",
   "metadata": {},
   "outputs": [
    {
     "data": {
      "text/plain": [
       "<torch._C.Generator at 0x7fe5913c8730>"
      ]
     },
     "execution_count": 144,
     "metadata": {},
     "output_type": "execute_result"
    }
   ],
   "source": [
    "import pandas as pd\n",
    "from api.database import *\n",
    "from tqdm.notebook import tqdm\n",
    "from sklearn.feature_extraction.text import TfidfVectorizer\n",
    "import spacy\n",
    "import re\n",
    "from collections import Counter\n",
    "import unicodedata\n",
    "import numpy as np\n",
    "import torch\n",
    "import torch.nn as nn\n",
    "import torch.nn.functional as F\n",
    "import torch.optim as optim\n",
    "import matplotlib.pyplot as plt\n",
    "torch.manual_seed(1)\n",
    "#python -m spacy download corpus_name"
   ]
  },
  {
   "cell_type": "code",
   "execution_count": 15,
   "id": "3915156c-e593-4ff4-8115-c69d44e7a39e",
   "metadata": {},
   "outputs": [],
   "source": [
    "def test_df_loading():\n",
    "    d = get_df(\"SELECT nom, text, x, y from deputes join texts on texts.deputes_id = deputes.id LIMIT 10\")\n",
    "    df = pd.DataFrame(d)\n",
    "    print(df)\n",
    "\n",
    "d = get_df(\"SELECT nom, text, x, y from deputes join texts on texts.deputes_id = deputes.id LIMIT 10\")\n",
    "df = pd.DataFrame(d)\n",
    "corpus_a = \"fr_dep_news_trf\"\n",
    "corpus_e = \"fr_core_news_sm\""
   ]
  },
  {
   "cell_type": "code",
   "execution_count": 19,
   "id": "912afa5f-304e-4a69-9fc9-5669a7540471",
   "metadata": {},
   "outputs": [],
   "source": [
    "\n",
    "\n",
    "def separe_to_sentences(text, efficiency = True):\n",
    "    corpus = corpus_e if efficiency else corpus_a\n",
    "    nlp = spacy.load(corpus)\n",
    "    doc = nlp(text)\n",
    "    assert doc.has_annotation(\"SENT_START\")\n",
    "    return [unicodedata.normalize(\"NFKD\", sent.text)  for sent in doc.sents]\n",
    "\n",
    "def process_text(text, efficiency = True):\n",
    "    text = re.sub(r'\\([^)]*\\)', '', text)\n",
    "    corpus = corpus_e if efficiency else corpus_a\n",
    "    nlp = spacy.load(corpus)\n",
    "    doc = nlp(text)\n",
    "    t = [token.lemma_.lower() for token in doc if not token.is_stop and token.is_alpha]\n",
    "    return t\n",
    "\n",
    "def create_lexic(d2, size = 1000):\n",
    "    df2 = pd.DataFrame(d2)\n",
    "    df2[\"cleaned_text\"] = df2[\"text\"].apply(process_text)\n",
    "    df2[\"n_words\"] = df2[\"cleaned_text\"].apply(len)\n",
    "    df2 = df2[df2.n_words > 1]\n",
    "    c = dict(Counter(df2[\"cleaned_text\"].sum()))\n",
    "    so = sorted(c.items(), key = lambda x:x[1], reverse = True)\n",
    "    d = dict(so[:size])\n",
    "    return list(d.keys())\n",
    "\n",
    "\n",
    "    \n",
    "def separe_dictionnary_by_sentences(d):\n",
    "    d2 = {k:[] for k in d.keys()}\n",
    "    for nom, text, x, y in tqdm(list(zip(d[\"nom\"], d[\"text\"], d[\"x\"], d[\"y\"]))):\n",
    "        sentences = separe_to_sentences(text, efficiency = True)\n",
    "        for sentence in sentences:\n",
    "            if len(sentences) < 15:\n",
    "                continue\n",
    "            d2[\"nom\"].append(nom)\n",
    "            d2[\"x\"].append(x)\n",
    "            d2[\"y\"].append(y)\n",
    "            d2[\"text\"].append(sentence)\n",
    "    return d2"
   ]
  },
  {
   "cell_type": "code",
   "execution_count": null,
   "id": "28640512-27dd-4139-85e4-2dcee122666d",
   "metadata": {},
   "outputs": [],
   "source": [
    "d = get_df(\"SELECT nom, text, x, y from deputes join texts on texts.deputes_id = deputes.id LIMIT 10\")\n",
    "df = pd.DataFrame(d)\n",
    "lexic = create_lexic(d, size = 1000)\n",
    "df[\"cleaned_text\"] = df[\"text\"].apply(process_text)\n",
    "df[\"cleaned_text\"] = df[\"cleaned_text\"].apply(lambda x:[i for i in x if i in lexic])\n",
    "df[\"text\"] = df[\"cleaned_text\"].apply(lambda x:\" \".join(x))"
   ]
  },
  {
   "cell_type": "markdown",
   "id": "a15bbdce-67b9-4ea9-8662-8415389b7693",
   "metadata": {},
   "source": [
    "## Without embedding"
   ]
  },
  {
   "cell_type": "code",
   "execution_count": 109,
   "id": "b1986321-ed5e-4977-ab6a-a1b6076fbfd9",
   "metadata": {},
   "outputs": [],
   "source": [
    "d = get_df(\"SELECT nom, text, x, y from deputes join texts on texts.deputes_id = deputes.id LIMIT 100\")\n",
    "df = pd.DataFrame(d)\n",
    "df[\"cleaned_text\"] = df[\"text\"].apply(process_text)\n",
    "lexic = create_lexic(d, size = 1000)\n",
    "df[\"cleaned_text\"] = df[\"cleaned_text\"].apply(lambda x:[i for i in x if i in lexic])\n",
    "df[\"text\"] = df[\"cleaned_text\"].apply(lambda x:\" \".join(x))"
   ]
  },
  {
   "cell_type": "code",
   "execution_count": 110,
   "id": "f31e1385-020f-41fd-9a10-febe13ffa9a3",
   "metadata": {},
   "outputs": [],
   "source": [
    "vectorizer = TfidfVectorizer()\n",
    "X = vectorizer.fit_transform(list(df[\"text\"]))"
   ]
  },
  {
   "cell_type": "code",
   "execution_count": 111,
   "id": "0090842d-cbec-48df-9143-4ecec98908de",
   "metadata": {},
   "outputs": [
    {
     "data": {
      "text/plain": [
       "<1x4091 sparse matrix of type '<class 'numpy.float64'>'\n",
       "\twith 228 stored elements in Compressed Sparse Row format>"
      ]
     },
     "execution_count": 111,
     "metadata": {},
     "output_type": "execute_result"
    }
   ],
   "source": [
    "vectorizer.transform([df[\"text\"][0]])"
   ]
  },
  {
   "cell_type": "code",
   "execution_count": 112,
   "id": "3e90a405-2b04-48a3-8fc9-0c4e399b12aa",
   "metadata": {},
   "outputs": [
    {
     "data": {
      "text/plain": [
       "(4091,)"
      ]
     },
     "execution_count": 112,
     "metadata": {},
     "output_type": "execute_result"
    }
   ],
   "source": [
    "vectorizer.get_feature_names_out().shape"
   ]
  },
  {
   "cell_type": "code",
   "execution_count": 113,
   "id": "9cbde22a-ae67-40c2-a518-d3d9146f5990",
   "metadata": {},
   "outputs": [],
   "source": [
    "class TFIDF_NN(nn.Module):\n",
    "\n",
    "    def __init__(self, vect, hidden_size = 100):\n",
    "        super(TFIDF_NN, self).__init__()\n",
    "        self.vectorizer = vect\n",
    "        vocab_size = vect.get_feature_names_out().shape[0]\n",
    "        self.linear1 = nn.Linear(vocab_size, hidden_size)\n",
    "        self.output = nn.Linear(hidden_size, 2)\n",
    "\n",
    "\n",
    "    def forward(self, text):\n",
    "        inputs = torch.tensor(self.vectorizer.transform(text).toarray()).float()\n",
    "        h1 = F.relu(self.linear1(inputs))\n",
    "        output = self.output(h1)\n",
    "        return output\n"
   ]
  },
  {
   "cell_type": "code",
   "execution_count": 114,
   "id": "df6544b7-3ef1-4368-9c29-3aa265911733",
   "metadata": {},
   "outputs": [
    {
     "name": "stdout",
     "output_type": "stream",
     "text": [
      "0 25711372.0\n",
      "250 478220.78125\n",
      "500 56598.73046875\n",
      "750 9529.80078125\n"
     ]
    },
    {
     "ename": "KeyboardInterrupt",
     "evalue": "",
     "output_type": "error",
     "traceback": [
      "\u001b[0;31m---------------------------------------------------------------------------\u001b[0m",
      "\u001b[0;31mKeyboardInterrupt\u001b[0m                         Traceback (most recent call last)",
      "Input \u001b[0;32mIn [114]\u001b[0m, in \u001b[0;36m<module>\u001b[0;34m\u001b[0m\n\u001b[1;32m      5\u001b[0m optimizer \u001b[38;5;241m=\u001b[39m torch\u001b[38;5;241m.\u001b[39moptim\u001b[38;5;241m.\u001b[39mAdam(model\u001b[38;5;241m.\u001b[39mparameters(), lr\u001b[38;5;241m=\u001b[39mlearning_rate)\n\u001b[1;32m      7\u001b[0m \u001b[38;5;28;01mfor\u001b[39;00m t \u001b[38;5;129;01min\u001b[39;00m \u001b[38;5;28mrange\u001b[39m(\u001b[38;5;241m10000\u001b[39m):\n\u001b[0;32m----> 8\u001b[0m     y_pred \u001b[38;5;241m=\u001b[39m \u001b[43mmodel\u001b[49m\u001b[43m(\u001b[49m\u001b[43mdf\u001b[49m\u001b[43m[\u001b[49m\u001b[38;5;124;43m\"\u001b[39;49m\u001b[38;5;124;43mtext\u001b[39;49m\u001b[38;5;124;43m\"\u001b[39;49m\u001b[43m]\u001b[49m\u001b[43m)\u001b[49m\n\u001b[1;32m      9\u001b[0m     y_true \u001b[38;5;241m=\u001b[39m torch\u001b[38;5;241m.\u001b[39mtensor(np\u001b[38;5;241m.\u001b[39marray(df[[\u001b[38;5;124m\"\u001b[39m\u001b[38;5;124mx\u001b[39m\u001b[38;5;124m\"\u001b[39m, \u001b[38;5;124m\"\u001b[39m\u001b[38;5;124my\u001b[39m\u001b[38;5;124m\"\u001b[39m]]))\u001b[38;5;241m.\u001b[39mfloat()\n\u001b[1;32m     10\u001b[0m     loss \u001b[38;5;241m=\u001b[39m loss_fn(y_pred, y_true)\n",
      "File \u001b[0;32m~/miniconda3/lib/python3.9/site-packages/torch/nn/modules/module.py:1110\u001b[0m, in \u001b[0;36mModule._call_impl\u001b[0;34m(self, *input, **kwargs)\u001b[0m\n\u001b[1;32m   1106\u001b[0m \u001b[38;5;66;03m# If we don't have any hooks, we want to skip the rest of the logic in\u001b[39;00m\n\u001b[1;32m   1107\u001b[0m \u001b[38;5;66;03m# this function, and just call forward.\u001b[39;00m\n\u001b[1;32m   1108\u001b[0m \u001b[38;5;28;01mif\u001b[39;00m \u001b[38;5;129;01mnot\u001b[39;00m (\u001b[38;5;28mself\u001b[39m\u001b[38;5;241m.\u001b[39m_backward_hooks \u001b[38;5;129;01mor\u001b[39;00m \u001b[38;5;28mself\u001b[39m\u001b[38;5;241m.\u001b[39m_forward_hooks \u001b[38;5;129;01mor\u001b[39;00m \u001b[38;5;28mself\u001b[39m\u001b[38;5;241m.\u001b[39m_forward_pre_hooks \u001b[38;5;129;01mor\u001b[39;00m _global_backward_hooks\n\u001b[1;32m   1109\u001b[0m         \u001b[38;5;129;01mor\u001b[39;00m _global_forward_hooks \u001b[38;5;129;01mor\u001b[39;00m _global_forward_pre_hooks):\n\u001b[0;32m-> 1110\u001b[0m     \u001b[38;5;28;01mreturn\u001b[39;00m \u001b[43mforward_call\u001b[49m\u001b[43m(\u001b[49m\u001b[38;5;241;43m*\u001b[39;49m\u001b[38;5;28;43minput\u001b[39;49m\u001b[43m,\u001b[49m\u001b[43m \u001b[49m\u001b[38;5;241;43m*\u001b[39;49m\u001b[38;5;241;43m*\u001b[39;49m\u001b[43mkwargs\u001b[49m\u001b[43m)\u001b[49m\n\u001b[1;32m   1111\u001b[0m \u001b[38;5;66;03m# Do not call functions when jit is used\u001b[39;00m\n\u001b[1;32m   1112\u001b[0m full_backward_hooks, non_full_backward_hooks \u001b[38;5;241m=\u001b[39m [], []\n",
      "Input \u001b[0;32mIn [113]\u001b[0m, in \u001b[0;36mTFIDF_NN.forward\u001b[0;34m(self, text)\u001b[0m\n\u001b[1;32m     11\u001b[0m \u001b[38;5;28;01mdef\u001b[39;00m \u001b[38;5;21mforward\u001b[39m(\u001b[38;5;28mself\u001b[39m, text):\n\u001b[0;32m---> 12\u001b[0m     inputs \u001b[38;5;241m=\u001b[39m torch\u001b[38;5;241m.\u001b[39mtensor(\u001b[38;5;28;43mself\u001b[39;49m\u001b[38;5;241;43m.\u001b[39;49m\u001b[43mvectorizer\u001b[49m\u001b[38;5;241;43m.\u001b[39;49m\u001b[43mtransform\u001b[49m\u001b[43m(\u001b[49m\u001b[43mtext\u001b[49m\u001b[43m)\u001b[49m\u001b[38;5;241m.\u001b[39mtoarray())\u001b[38;5;241m.\u001b[39mfloat()\n\u001b[1;32m     13\u001b[0m     h1 \u001b[38;5;241m=\u001b[39m F\u001b[38;5;241m.\u001b[39mrelu(\u001b[38;5;28mself\u001b[39m\u001b[38;5;241m.\u001b[39mlinear1(inputs))\n\u001b[1;32m     14\u001b[0m     output \u001b[38;5;241m=\u001b[39m \u001b[38;5;28mself\u001b[39m\u001b[38;5;241m.\u001b[39moutput(h1)\n",
      "File \u001b[0;32m~/miniconda3/lib/python3.9/site-packages/sklearn/feature_extraction/text.py:2101\u001b[0m, in \u001b[0;36mTfidfVectorizer.transform\u001b[0;34m(self, raw_documents)\u001b[0m\n\u001b[1;32m   2084\u001b[0m \u001b[38;5;124;03m\"\"\"Transform documents to document-term matrix.\u001b[39;00m\n\u001b[1;32m   2085\u001b[0m \n\u001b[1;32m   2086\u001b[0m \u001b[38;5;124;03mUses the vocabulary and document frequencies (df) learned by fit (or\u001b[39;00m\n\u001b[0;32m   (...)\u001b[0m\n\u001b[1;32m   2097\u001b[0m \u001b[38;5;124;03m    Tf-idf-weighted document-term matrix.\u001b[39;00m\n\u001b[1;32m   2098\u001b[0m \u001b[38;5;124;03m\"\"\"\u001b[39;00m\n\u001b[1;32m   2099\u001b[0m check_is_fitted(\u001b[38;5;28mself\u001b[39m, msg\u001b[38;5;241m=\u001b[39m\u001b[38;5;124m\"\u001b[39m\u001b[38;5;124mThe TF-IDF vectorizer is not fitted\u001b[39m\u001b[38;5;124m\"\u001b[39m)\n\u001b[0;32m-> 2101\u001b[0m X \u001b[38;5;241m=\u001b[39m \u001b[38;5;28;43msuper\u001b[39;49m\u001b[43m(\u001b[49m\u001b[43m)\u001b[49m\u001b[38;5;241;43m.\u001b[39;49m\u001b[43mtransform\u001b[49m\u001b[43m(\u001b[49m\u001b[43mraw_documents\u001b[49m\u001b[43m)\u001b[49m\n\u001b[1;32m   2102\u001b[0m \u001b[38;5;28;01mreturn\u001b[39;00m \u001b[38;5;28mself\u001b[39m\u001b[38;5;241m.\u001b[39m_tfidf\u001b[38;5;241m.\u001b[39mtransform(X, copy\u001b[38;5;241m=\u001b[39m\u001b[38;5;28;01mFalse\u001b[39;00m)\n",
      "File \u001b[0;32m~/miniconda3/lib/python3.9/site-packages/sklearn/feature_extraction/text.py:1379\u001b[0m, in \u001b[0;36mCountVectorizer.transform\u001b[0;34m(self, raw_documents)\u001b[0m\n\u001b[1;32m   1376\u001b[0m \u001b[38;5;28mself\u001b[39m\u001b[38;5;241m.\u001b[39m_check_vocabulary()\n\u001b[1;32m   1378\u001b[0m \u001b[38;5;66;03m# use the same matrix-building strategy as fit_transform\u001b[39;00m\n\u001b[0;32m-> 1379\u001b[0m _, X \u001b[38;5;241m=\u001b[39m \u001b[38;5;28;43mself\u001b[39;49m\u001b[38;5;241;43m.\u001b[39;49m\u001b[43m_count_vocab\u001b[49m\u001b[43m(\u001b[49m\u001b[43mraw_documents\u001b[49m\u001b[43m,\u001b[49m\u001b[43m \u001b[49m\u001b[43mfixed_vocab\u001b[49m\u001b[38;5;241;43m=\u001b[39;49m\u001b[38;5;28;43;01mTrue\u001b[39;49;00m\u001b[43m)\u001b[49m\n\u001b[1;32m   1380\u001b[0m \u001b[38;5;28;01mif\u001b[39;00m \u001b[38;5;28mself\u001b[39m\u001b[38;5;241m.\u001b[39mbinary:\n\u001b[1;32m   1381\u001b[0m     X\u001b[38;5;241m.\u001b[39mdata\u001b[38;5;241m.\u001b[39mfill(\u001b[38;5;241m1\u001b[39m)\n",
      "File \u001b[0;32m~/miniconda3/lib/python3.9/site-packages/sklearn/feature_extraction/text.py:1203\u001b[0m, in \u001b[0;36mCountVectorizer._count_vocab\u001b[0;34m(self, raw_documents, fixed_vocab)\u001b[0m\n\u001b[1;32m   1201\u001b[0m \u001b[38;5;28;01mfor\u001b[39;00m feature \u001b[38;5;129;01min\u001b[39;00m analyze(doc):\n\u001b[1;32m   1202\u001b[0m     \u001b[38;5;28;01mtry\u001b[39;00m:\n\u001b[0;32m-> 1203\u001b[0m         feature_idx \u001b[38;5;241m=\u001b[39m \u001b[43mvocabulary\u001b[49m\u001b[43m[\u001b[49m\u001b[43mfeature\u001b[49m\u001b[43m]\u001b[49m\n\u001b[1;32m   1204\u001b[0m         \u001b[38;5;28;01mif\u001b[39;00m feature_idx \u001b[38;5;129;01mnot\u001b[39;00m \u001b[38;5;129;01min\u001b[39;00m feature_counter:\n\u001b[1;32m   1205\u001b[0m             feature_counter[feature_idx] \u001b[38;5;241m=\u001b[39m \u001b[38;5;241m1\u001b[39m\n",
      "\u001b[0;31mKeyboardInterrupt\u001b[0m: "
     ]
    }
   ],
   "source": [
    "model = TFIDF_NN(vectorizer)\n",
    "\n",
    "loss_fn = torch.nn.MSELoss(reduction='sum')\n",
    "learning_rate = 1e-2\n",
    "optimizer = torch.optim.Adam(model.parameters(), lr=learning_rate)\n",
    "\n",
    "for t in range(10000):\n",
    "    y_pred = model(df[\"text\"])\n",
    "    y_true = torch.tensor(np.array(df[[\"x\", \"y\"]])).float()\n",
    "    loss = loss_fn(y_pred, y_true)\n",
    "    if t % 250 == 0:\n",
    "        print(t, loss.item())\n",
    "    optimizer.zero_grad()\n",
    "    loss.backward()\n",
    "    optimizer.step()"
   ]
  },
  {
   "cell_type": "markdown",
   "id": "31379573-1a2f-4d3b-9a29-f3a0c50f65b4",
   "metadata": {},
   "source": [
    "## Sans préprocessing\n",
    "Parce que ça prend putain de trop de temps bordel"
   ]
  },
  {
   "cell_type": "code",
   "execution_count": 189,
   "id": "215a8695-be44-4574-92fc-fb04214867ec",
   "metadata": {},
   "outputs": [],
   "source": [
    "d = get_df(\"SELECT nom, text, x, y from deputes join texts on texts.deputes_id = deputes.id LIMIT 50000\")\n",
    "df = pd.DataFrame(d)\n",
    "### Je désactive le préprocessing pour povuoir tester plus de députés\n",
    "#df[\"cleaned_text\"] = df[\"text\"].apply(process_text)\n",
    "#lexic = create_lexic(d, size = 1000)\n",
    "#df[\"cleaned_text\"] = df[\"cleaned_text\"].apply(lambda x:[i for i in x if i in lexic])\n",
    "#df[\"text\"] = df[\"cleaned_text\"].apply(lambda x:\" \".join(x))"
   ]
  },
  {
   "cell_type": "code",
   "execution_count": 190,
   "id": "e2a00db4-83f0-42b5-913d-16d093772f89",
   "metadata": {},
   "outputs": [
    {
     "data": {
      "text/plain": [
       "(50000, 4094)"
      ]
     },
     "execution_count": 190,
     "metadata": {},
     "output_type": "execute_result"
    }
   ],
   "source": [
    "vectorizer = TfidfVectorizer()\n",
    "X = vectorizer.fit_transform(list(df[\"text\"]))\n",
    "X.shape"
   ]
  },
  {
   "cell_type": "code",
   "execution_count": null,
   "id": "7d008f39-f952-4821-b1f5-5ebf83df4224",
   "metadata": {},
   "outputs": [
    {
     "data": {
      "application/vnd.jupyter.widget-view+json": {
       "model_id": "c1f84739125e4a3ebddeb35308ed9695",
       "version_major": 2,
       "version_minor": 0
      },
      "text/plain": [
       "  0%|          | 0/5000 [00:00<?, ?it/s]"
      ]
     },
     "metadata": {},
     "output_type": "display_data"
    },
    {
     "name": "stdout",
     "output_type": "stream",
     "text": [
      "0\n",
      "Training:  13193162752.0\n",
      "Test:  22781130.0\n",
      "200\n",
      "Training:  520369792.0\n",
      "Test:  582742.6875\n",
      "400\n",
      "Training:  51730544.0\n",
      "Test:  102707.875\n",
      "600\n",
      "Training:  13210376.0\n",
      "Test:  24837.6484375\n",
      "800\n",
      "Training:  2374870.0\n",
      "Test:  132.81752014160156\n",
      "1000\n",
      "Training:  334279.8125\n",
      "Test:  1250.026123046875\n",
      "1200\n",
      "Training:  47045.58984375\n",
      "Test:  2.1281895637512207\n",
      "1400\n",
      "Training:  6427.9658203125\n",
      "Test:  0.5159042477607727\n",
      "1600\n",
      "Training:  720.2836303710938\n",
      "Test:  1.3688184022903442\n",
      "1800\n",
      "Training:  60.25787353515625\n",
      "Test:  0.005270300433039665\n"
     ]
    }
   ],
   "source": [
    "model = TFIDF_NN(vectorizer)\n",
    "\n",
    "loss_fn = torch.nn.MSELoss(reduction='sum')\n",
    "learning_rate = 1e-2\n",
    "optimizer = torch.optim.Adam(model.parameters(), lr=learning_rate)\n",
    "\n",
    "for t in tqdm(range(5000)):\n",
    "    y_pred = model(df[\"text\"])\n",
    "    y_true = torch.tensor(np.array(df[[\"x\", \"y\"]])).float()\n",
    "    loss = loss_fn(y_pred, y_true)\n",
    "    if t % 200 == 0:\n",
    "        print(t)\n",
    "        print(\"Training: \", loss.item())\n",
    "        d2 = df.sample(n=100)\n",
    "        yt = torch.tensor(np.array(d2[[\"x\", \"y\"]])).float()\n",
    "        pt = model(d2[\"text\"])\n",
    "        loss2 = loss_fn(yt, pt)\n",
    "        print(\"Test: \", loss2.item())\n",
    "    optimizer.zero_grad()\n",
    "    loss.backward()\n",
    "    optimizer.step()"
   ]
  },
  {
   "cell_type": "code",
   "execution_count": 183,
   "id": "309ccae2-64d0-484c-8420-f0503b9cf149",
   "metadata": {},
   "outputs": [],
   "source": [
    "ex = \"\"\"\n",
    "La crise aurait pu être l’occasion de remettre en question le bien-fondé de la croissance du trafic aérien. Après tout, un trajet en avion – vous le savez, monsieur le ministre délégué – est en moyenne quatorze à quarante fois plus polluant qu’en train. Le trafic aérien double tous les quinze ans et la filière est responsable de plus de 7 % de l’empreinte carbone de la France. Peut-être serait-il alors plus sage d’amorcer la bifurcation écologique ? Mais non ! Saupoudrez comme il vous plaira, et sans garanties écologiques.\"\"\""
   ]
  },
  {
   "cell_type": "code",
   "execution_count": 184,
   "id": "52eaa7ff-6b60-4f42-96e9-17017389e11d",
   "metadata": {},
   "outputs": [],
   "source": [
    "depute_df = get_df(\"SELECT nom, x, y from deputes\")\n",
    "depute_df = pd.DataFrame(depute_df)\n"
   ]
  },
  {
   "cell_type": "code",
   "execution_count": 185,
   "id": "9ec23bc9-9f05-4267-9437-9980207835af",
   "metadata": {},
   "outputs": [
    {
     "data": {
      "text/plain": [
       "<matplotlib.collections.PathCollection at 0x7fe57758ea30>"
      ]
     },
     "execution_count": 185,
     "metadata": {},
     "output_type": "execute_result"
    },
    {
     "data": {
      "image/png": "[encoded data removed]",
      "text/plain": [
       "<Figure size 432x288 with 1 Axes>"
      ]
     },
     "metadata": {
      "needs_background": "light"
     },
     "output_type": "display_data"
    }
   ],
   "source": [
    "plt.scatter(depute_df[\"x\"], depute_df[\"y\"], c = \"blue\")\n",
    "o = model([ex]).detach().numpy()[0]\n",
    "x,y = o[0], o[1]\n",
    "plt.scatter([x],[y], c = \"red\")"
   ]
  },
  {
   "cell_type": "code",
   "execution_count": 154,
   "id": "d8b3a5d6-af9a-477d-9211-b420f64fa2ad",
   "metadata": {},
   "outputs": [
    {
     "data": {
      "text/plain": [
       "tensor([[358.2219, 176.0823]], grad_fn=<AddmmBackward0>)"
      ]
     },
     "execution_count": 154,
     "metadata": {},
     "output_type": "execute_result"
    }
   ],
   "source": [
    "o"
   ]
  },
  {
   "cell_type": "code",
   "execution_count": null,
   "id": "824d6dab-570f-448c-8040-77bd619331ae",
   "metadata": {},
   "outputs": [],
   "source": []
  }
 ],
 "metadata": {
  "kernelspec": {
   "display_name": "Python 3 (ipykernel)",
   "language": "python",
   "name": "python3"
  },
  "language_info": {
   "codemirror_mode": {
    "name": "ipython",
    "version": 3
   },
   "file_extension": ".py",
   "mimetype": "text/x-python",
   "name": "python",
   "nbconvert_exporter": "python",
   "pygments_lexer": "ipython3",
   "version": "3.9.10"
  }
 },
 "nbformat": 4,
 "nbformat_minor": 5
}
